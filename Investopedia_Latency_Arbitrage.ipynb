{
  "nbformat": 4,
  "nbformat_minor": 0,
  "metadata": {
    "colab": {
      "name": "Investopedia Latency Arbitrage",
      "provenance": [],
      "collapsed_sections": []
    },
    "kernelspec": {
      "name": "python3",
      "display_name": "Python 3"
    }
  },
  "cells": [
    {
      "cell_type": "markdown",
      "metadata": {
        "id": "DHzf94FAjqJU",
        "colab_type": "text"
      },
      "source": [
        "**Sets up environment**"
      ]
    },
    {
      "cell_type": "code",
      "metadata": {
        "id": "pVlJlYwduY2S",
        "colab_type": "code",
        "colab": {}
      },
      "source": [
        "\n",
        "import os\n",
        "import time\n",
        "import math\n",
        "import pandas as pd\n",
        "import requests\n",
        "import re\n",
        "from dotenv import load_dotenv\n",
        "from iexfinance.stocks import Stock\n",
        "from concurrent.futures import ThreadPoolExecutor as PoolExecutor\n",
        "\n",
        "from selenium import webdriver\n",
        "from selenium.webdriver.chrome.options import Options\n",
        "\n",
        "load_dotenv()\n",
        "\n",
        "os.environ['IEX_TOKEN'] = os.environ.get('IEX_TOKEN')\n",
        "\n",
        "with open('cookie.txt', 'r') as file:\n",
        "  os.environ['COOKIE'] = file.read()\n",
        ""
      ],
      "execution_count": 5,
      "outputs": []
    },
    {
      "cell_type": "markdown",
      "metadata": {
        "id": "ERwIIXvTikOh",
        "colab_type": "text"
      },
      "source": [
        "**Gets list of S&P 500 from Wikipedia and caches it to localhost**"
      ]
    },
    {
      "cell_type": "code",
      "metadata": {
        "id": "gBYcG4ZIuiDY",
        "colab_type": "code",
        "colab": {}
      },
      "source": [
        "\n",
        "try:\n",
        "  tickers = []\n",
        "\n",
        "  with open('s&p.txt', 'r') as filehandle:\n",
        "    for ticker in filehandle:\n",
        "      tickers.append(ticker[:-1])\n",
        "\n",
        "except:\n",
        "  html = requests.get('http://en.wikipedia.org/wiki/List_of_S%26P_500_companies').content\n",
        "  stock_table = pd.read_html(html)\n",
        "  stock_df = table[0]\n",
        "  tickers = stock_df['Symbol'].to_list()\n",
        "\n",
        "  with open('s&p.txt', 'w') as filehandle:\n",
        "    for ticker in tickers:\n",
        "        filehandle.write('%s\\n' % ticker)\n",
        "\n",
        "tickers\n",
        ""
      ],
      "execution_count": 6,
      "outputs": [
        {
          "output_type": "execute_result",
          "data": {
            "text/plain": "['MMM',\n 'ABT',\n 'ABBV',\n 'ABMD',\n 'ACN',\n 'ATVI',\n 'ADBE',\n 'AMD',\n 'AAP',\n 'AES',\n 'AFL',\n 'A',\n 'APD',\n 'AKAM',\n 'ALK',\n 'ALB',\n 'ARE',\n 'ALXN',\n 'ALGN',\n 'ALLE',\n 'AGN',\n 'ADS',\n 'LNT',\n 'ALL',\n 'GOOGL',\n 'GOOG',\n 'MO',\n 'AMZN',\n 'AEE',\n 'AAL',\n 'AEP',\n 'AXP',\n 'AIG',\n 'T',\n 'AMT',\n 'AWK',\n 'AMP',\n 'ABC',\n 'AME',\n 'AMGN',\n 'APH',\n 'ADI',\n 'ANSS',\n 'ANTM',\n 'AON',\n 'AOS',\n 'APA',\n 'AIV',\n 'AAPL',\n 'AMAT',\n 'APTV',\n 'ADM',\n 'ARNC',\n 'ANET',\n 'AJG',\n 'AIZ',\n 'ATO',\n 'ADSK',\n 'ADP',\n 'AZO',\n 'AVB',\n 'AVY',\n 'BKR',\n 'BLL',\n 'BAC',\n 'BK',\n 'BAX',\n 'BDX',\n 'BRK.B',\n 'BBY',\n 'BIIB',\n 'BLK',\n 'BA',\n 'BKNG',\n 'BWA',\n 'BXP',\n 'BSX',\n 'BMY',\n 'AVGO',\n 'BR',\n 'BF.B',\n 'CHRW',\n 'COG',\n 'CDNS',\n 'CPB',\n 'COF',\n 'CPRI',\n 'CAH',\n 'KMX',\n 'CCL',\n 'CAT',\n 'CBRE',\n 'CDW',\n 'CE',\n 'CNC',\n 'CNP',\n 'CTL',\n 'CERN',\n 'CF',\n 'SCHW',\n 'CHTR',\n 'CVX',\n 'CMG',\n 'CB',\n 'CHD',\n 'CI',\n 'CINF',\n 'CTAS',\n 'CSCO',\n 'C',\n 'CFG',\n 'CTXS',\n 'CLX',\n 'CME',\n 'CMS',\n 'KO',\n 'CTSH',\n 'CL',\n 'CMCSA',\n 'CMA',\n 'CAG',\n 'CXO',\n 'COP',\n 'ED',\n 'STZ',\n 'COO',\n 'CPRT',\n 'GLW',\n 'CTVA',\n 'COST',\n 'COTY',\n 'CCI',\n 'CSX',\n 'CMI',\n 'CVS',\n 'DHI',\n 'DHR',\n 'DRI',\n 'DVA',\n 'DE',\n 'DAL',\n 'XRAY',\n 'DVN',\n 'FANG',\n 'DLR',\n 'DFS',\n 'DISCA',\n 'DISCK',\n 'DISH',\n 'DG',\n 'DLTR',\n 'D',\n 'DOV',\n 'DOW',\n 'DTE',\n 'DUK',\n 'DRE',\n 'DD',\n 'DXC',\n 'ETFC',\n 'EMN',\n 'ETN',\n 'EBAY',\n 'ECL',\n 'EIX',\n 'EW',\n 'EA',\n 'EMR',\n 'ETR',\n 'EOG',\n 'EFX',\n 'EQIX',\n 'EQR',\n 'ESS',\n 'EL',\n 'EVRG',\n 'ES',\n 'RE',\n 'EXC',\n 'EXPE',\n 'EXPD',\n 'EXR',\n 'XOM',\n 'FFIV',\n 'FB',\n 'FAST',\n 'FRT',\n 'FDX',\n 'FIS',\n 'FITB',\n 'FE',\n 'FRC',\n 'FISV',\n 'FLT',\n 'FLIR',\n 'FLS',\n 'FMC',\n 'F',\n 'FTNT',\n 'FTV',\n 'FBHS',\n 'FOXA',\n 'FOX',\n 'BEN',\n 'FCX',\n 'GPS',\n 'GRMN',\n 'IT',\n 'GD',\n 'GE',\n 'GIS',\n 'GM',\n 'GPC',\n 'GILD',\n 'GL',\n 'GPN',\n 'GS',\n 'GWW',\n 'HRB',\n 'HAL',\n 'HBI',\n 'HOG',\n 'HIG',\n 'HAS',\n 'HCA',\n 'PEAK',\n 'HP',\n 'HSIC',\n 'HSY',\n 'HES',\n 'HPE',\n 'HLT',\n 'HFC',\n 'HOLX',\n 'HD',\n 'HON',\n 'HRL',\n 'HST',\n 'HPQ',\n 'HUM',\n 'HBAN',\n 'HII',\n 'IEX',\n 'IDXX',\n 'INFO',\n 'ITW',\n 'ILMN',\n 'INCY',\n 'IR',\n 'INTC',\n 'ICE',\n 'IBM',\n 'IP',\n 'IPG',\n 'IFF',\n 'INTU',\n 'ISRG',\n 'IVZ',\n 'IPGP',\n 'IQV',\n 'IRM',\n 'JKHY',\n 'J',\n 'JBHT',\n 'SJM',\n 'JNJ',\n 'JCI',\n 'JPM',\n 'JNPR',\n 'KSU',\n 'K',\n 'KEY',\n 'KEYS',\n 'KMB',\n 'KIM',\n 'KMI',\n 'KLAC',\n 'KSS',\n 'KHC',\n 'KR',\n 'LB',\n 'LHX',\n 'LH',\n 'LRCX',\n 'LW',\n 'LVS',\n 'LEG',\n 'LDOS',\n 'LEN',\n 'LLY',\n 'LNC',\n 'LIN',\n 'LYV',\n 'LKQ',\n 'LMT',\n 'L',\n 'LOW',\n 'LYB',\n 'MTB',\n 'M',\n 'MRO',\n 'MPC',\n 'MKTX',\n 'MAR',\n 'MMC',\n 'MLM',\n 'MAS',\n 'MA',\n 'MKC',\n 'MXIM',\n 'MCD',\n 'MCK',\n 'MDT',\n 'MRK',\n 'MET',\n 'MTD',\n 'MGM',\n 'MCHP',\n 'MU',\n 'MSFT',\n 'MAA',\n 'MHK',\n 'TAP',\n 'MDLZ',\n 'MNST',\n 'MCO',\n 'MS',\n 'MOS',\n 'MSI',\n 'MSCI',\n 'MYL',\n 'NDAQ',\n 'NOV',\n 'NTAP',\n 'NFLX',\n 'NWL',\n 'NEM',\n 'NWSA',\n 'NWS',\n 'NEE',\n 'NLSN',\n 'NKE',\n 'NI',\n 'NBL',\n 'JWN',\n 'NSC',\n 'NTRS',\n 'NOC',\n 'NLOK',\n 'NCLH',\n 'NRG',\n 'NUE',\n 'NVDA',\n 'NVR',\n 'ORLY',\n 'OXY',\n 'ODFL',\n 'OMC',\n 'OKE',\n 'ORCL',\n 'PCAR',\n 'PKG',\n 'PH',\n 'PAYX',\n 'PAYC',\n 'PYPL',\n 'PNR',\n 'PBCT',\n 'PEP',\n 'PKI',\n 'PRGO',\n 'PFE',\n 'PM',\n 'PSX',\n 'PNW',\n 'PXD',\n 'PNC',\n 'PPG',\n 'PPL',\n 'PFG',\n 'PG',\n 'PGR',\n 'PLD',\n 'PRU',\n 'PEG',\n 'PSA',\n 'PHM',\n 'PVH',\n 'QRVO',\n 'PWR',\n 'QCOM',\n 'DGX',\n 'RL',\n 'RJF',\n 'RTN',\n 'O',\n 'REG',\n 'REGN',\n 'RF',\n 'RSG',\n 'RMD',\n 'RHI',\n 'ROK',\n 'ROL',\n 'ROP',\n 'ROST',\n 'RCL',\n 'SPGI',\n 'CRM',\n 'SBAC',\n 'SLB',\n 'STX',\n 'SEE',\n 'SRE',\n 'NOW',\n 'SHW',\n 'SPG',\n 'SWKS',\n 'SLG',\n 'SNA',\n 'SO',\n 'LUV',\n 'SWK',\n 'SBUX',\n 'STT',\n 'STE',\n 'SYK',\n 'SIVB',\n 'SYF',\n 'SNPS',\n 'SYY',\n 'TMUS',\n 'TROW',\n 'TTWO',\n 'TPR',\n 'TGT',\n 'TEL',\n 'FTI',\n 'TFX',\n 'TXN',\n 'TXT',\n 'TMO',\n 'TIF',\n 'TJX',\n 'TSCO',\n 'TT',\n 'TDG',\n 'TRV',\n 'TFC',\n 'TWTR',\n 'TSN',\n 'UDR',\n 'ULTA',\n 'USB',\n 'UAA',\n 'UA',\n 'UNP',\n 'UAL',\n 'UNH',\n 'UPS',\n 'URI',\n 'UTX',\n 'UHS',\n 'UNM',\n 'VFC',\n 'VLO',\n 'VAR',\n 'VTR',\n 'VRSN',\n 'VRSK',\n 'VZ',\n 'VRTX',\n 'VIAC',\n 'V',\n 'VNO',\n 'VMC',\n 'WRB',\n 'WAB',\n 'WMT',\n 'WBA',\n 'DIS',\n 'WM',\n 'WAT',\n 'WEC',\n 'WFC',\n 'WELL',\n 'WDC',\n 'WU',\n 'WRK',\n 'WY',\n 'WHR',\n 'WMB',\n 'WLTW',\n 'WYNN',\n 'XEL',\n 'XRX',\n 'XLNX',\n 'XYL',\n 'YUM',\n 'ZBRA',\n 'ZBH',\n 'ZION',\n 'ZTS']"
          },
          "metadata": {},
          "execution_count": 6
        }
      ]
    },
    {
      "cell_type": "markdown",
      "metadata": {
        "id": "SrqECod1JPu4",
        "colab_type": "text"
      },
      "source": [
        "**Should only be ran the first time the program is ran to log into Investopedia**\n"
      ]
    },
    {
      "cell_type": "code",
      "metadata": {
        "id": "wn9WIQ-Xv4zW",
        "colab_type": "code",
        "colab": {}
      },
      "source": [
        "\n",
        "import time\n",
        "\n",
        "chrome_options = Options()\n",
        "chrome_options.add_argument(\"--user-data-dir=chrome-data\")\n",
        "\n",
        "driver = webdriver.Chrome(options=chrome_options)\n",
        "chrome_options.add_argument(\"user-data-dir=chrome-data\") \n",
        "\n",
        "driver.get(\"https://investopedia.com/simulator/game/\")\n",
        "time.sleep(20)  # Time to enter credentials\n",
        "driver.quit()\n"
      ],
      "execution_count": 0,
      "outputs": []
    },
    {
      "cell_type": "markdown",
      "metadata": {
        "id": "Sfs_P1dgj5uY",
        "colab_type": "text"
      },
      "source": [
        "**Gets delayed Investopedia price**"
      ]
    },
    {
      "cell_type": "code",
      "metadata": {
        "id": "L54itLEeOlLp",
        "colab_type": "code",
        "colab": {}
      },
      "source": [
        "\n",
        "def get_investopedia_price(symbol):\n",
        "  headers = { 'cookie': os.environ['COOKIE'] }\n",
        "  url = \"https://www.investopedia.com/simulator/ajax/quotebox.aspx\"\n",
        "  body = { 'symbol': symbol }\n",
        "  content = requests.post(url, body, headers=headers).content\n",
        "\n",
        "  try:\n",
        "    price = re.search(\"Last[\\S\\s]*\\\">(.*)<\\/[\\S\\s]*>Change\", content.decode()).group(1)\n",
        "    return float(price.replace(',', ''))\n",
        "  except:\n",
        "    print(content)\n",
        "    return -1\n"
      ],
      "execution_count": 0,
      "outputs": []
    },
    {
      "cell_type": "markdown",
      "metadata": {
        "id": "2DQDN7mAkB6q",
        "colab_type": "text"
      },
      "source": [
        "**Gets current price**"
      ]
    },
    {
      "cell_type": "code",
      "metadata": {
        "id": "V5ojxh25YWEC",
        "colab_type": "code",
        "colab": {}
      },
      "source": [
        "\n",
        "def get_current_price(symbol):\n",
        "  return Stock(symbol).get_quote()['latestPrice']\n",
        "  "
      ],
      "execution_count": 7,
      "outputs": []
    },
    {
      "cell_type": "markdown",
      "metadata": {
        "id": "GHYaDHjM5Kbf",
        "colab_type": "text"
      },
      "source": [
        "**Shows symbols' price differences, descending**"
      ]
    },
    {
      "cell_type": "code",
      "metadata": {
        "id": "KCa6TMtkbb4o",
        "colab_type": "code",
        "colab": {}
      },
      "source": [
        "\n",
        "def get_price_comparisons(syms):\n",
        "  symbols = [syms] if isinstance(syms, str) else syms\n",
        "\n",
        "  def get_price_comparison(sym):\n",
        "    cur = get_current_price(sym)\n",
        "    inv = get_investopedia_price(sym)\n",
        "    pro = round(abs(cur - inv) / inv * 100, 2)\n",
        "    ord = 'Buy' if cur > inv else 'Sell Short' if cur < inv else 'Even'\n",
        "    amt = math.floor(50000 / cur)\n",
        "\n",
        "    return [sym, inv, cur, pro, ord, amt]\n",
        "\n",
        "\n",
        "  results = []\n",
        "  with PoolExecutor(max_workers=5) as executor:\n",
        "      for res in executor.map(get_price_comparison, symbols):\n",
        "        results.append(res)\n",
        "\n",
        "\n",
        "  df = pd.DataFrame(results, columns=['Symbol', 'Investopedia', 'Current', 'Profit %', 'Order', 'Amount'])\n",
        "  sorted = df.sort_values('Profit %', ascending=False)\n",
        "\n",
        "  return sorted\n"
      ],
      "execution_count": 0,
      "outputs": []
    },
    {
      "cell_type": "markdown",
      "metadata": {
        "id": "60dDPc7GLqB7",
        "colab_type": "text"
      },
      "source": [
        "**Trades stocks**"
      ]
    },
    {
      "cell_type": "code",
      "metadata": {
        "id": "NRUO2yOLlPcV",
        "colab_type": "code",
        "colab": {}
      },
      "source": [
        "\n",
        "def trade_stock(symbol, amount, order):\n",
        "  chrome_options = Options()\n",
        "  chrome_options.add_argument(\"--user-data-dir=chrome-data\")\n",
        "  chrome_options.add_argument('--headless')\n",
        "\n",
        "  driver = webdriver.Chrome(options=chrome_options)\n",
        "  driver.get('https://www.investopedia.com/simulator/trade/tradestock.aspx')\n",
        "\n",
        "  def typeElement(selector, keys):\n",
        "    driver.find_element_by_css_selector(selector).send_keys(keys)\n",
        "\n",
        "  def setDropdownElement(id, value):\n",
        "    driver.find_element_by_xpath('//select[@id=\"%s\"]/option[text()=\"%s\"]' % (id, value)).click()\n",
        "  \n",
        "  def clickElement(selector):\n",
        "    elem = driver.find_element_by_css_selector(selector)\n",
        "    driver.execute_script('arguments[0].click()', elem)\n",
        "\n",
        "  typeElement('input[name=\"symbolTextbox\"]', symbol)\n",
        "  setDropdownElement(\"transactionTypeDropDown\", order)\n",
        "  typeElement('input[name=\"quantityTextbox\"]', amount)\n",
        "\n",
        "  clickElement('#sendConfirmationEmailCheckBox')\n",
        "  clickElement('#previewButton')\n",
        "\n",
        "  time.sleep(0.3)\n",
        "\n",
        "  clickElement('#submitOrder')\n",
        "\n",
        "  time.sleep(0.3)\n",
        "\n",
        "  assert \"Confirmation\" in driver.page_source\n",
        "\n",
        "  driver.quit()\n"
      ],
      "execution_count": 0,
      "outputs": []
    },
    {
      "cell_type": "markdown",
      "metadata": {
        "id": "DKxV49F743ZP",
        "colab_type": "text"
      },
      "source": [
        "\n",
        "\n",
        "---\n",
        "\n"
      ]
    },
    {
      "cell_type": "code",
      "metadata": {
        "id": "OFhgzVv5NJBC",
        "colab_type": "code",
        "outputId": "6422dbe5-faba-415f-f60a-c3a3f8e9ea6e",
        "colab": {
          "base_uri": "https://localhost:8080/",
          "height": 34
        }
      },
      "source": [
        "\n",
        "get_investopedia_price('iep')\n"
      ],
      "execution_count": 13,
      "outputs": [
        {
          "output_type": "execute_result",
          "data": {
            "text/plain": [
              "48.45"
            ]
          },
          "metadata": {
            "tags": []
          },
          "execution_count": 13
        }
      ]
    },
    {
      "cell_type": "code",
      "metadata": {
        "id": "Oir4D2UrN427",
        "colab_type": "code",
        "outputId": "acd136ac-dc88-4280-bc34-870411888006",
        "colab": {
          "base_uri": "https://localhost:8080/",
          "height": 545
        }
      },
      "source": [
        "get_price_comparisons([\"KNSA\", \"DLPH\", \"AKRO\", \"PRQR\", \"MX\", \"GEL\", \"CNQ\", \"NEWT\", \"PE\", \"SU\", \"NRZ\", \"AFIN\", \"DCP\", \"ERIE\", \"ETNB\", \"GNW\"])"
      ],
      "execution_count": 23,
      "outputs": [
        {
          "output_type": "execute_result",
          "data": {
            "text/plain": [
              "   Symbol  Investopedia  Current  Profit %       Order  Amount\n",
              "12    DCP        3.7350    3.830      2.54         Buy   13054\n",
              "15    GNW        3.5827    3.510      2.03  Sell Short   14245\n",
              "2    AKRO       21.1300   20.850      1.33  Sell Short    2398\n",
              "4      MX       11.4700   11.355      1.00  Sell Short    4403\n",
              "8      PE        5.5050    5.560      1.00         Buy    8992\n",
              "1    DLPH        8.0500    7.975      0.93  Sell Short    6269\n",
              "5     GEL        3.5600    3.530      0.84  Sell Short   14164\n",
              "11   AFIN        5.9200    5.870      0.84  Sell Short    8517\n",
              "14   ETNB       25.0000   25.205      0.82         Buy    1983\n",
              "6     CNQ       13.2400   13.135      0.79  Sell Short    3806\n",
              "7    NEWT       13.4400   13.380      0.45  Sell Short    3736\n",
              "10    NRZ        5.0850    5.070      0.29  Sell Short    9861\n",
              "0    KNSA       15.6500   15.615      0.22  Sell Short    3202\n",
              "9      SU       15.5350   15.540      0.03         Buy    3217\n",
              "13   ERIE      152.0300  152.075      0.03         Buy     328\n",
              "3    PRQR        5.3700    5.370      0.00        Even    9310"
            ],
            "text/html": [
              "<div>\n",
              "<style scoped>\n",
              "    .dataframe tbody tr th:only-of-type {\n",
              "        vertical-align: middle;\n",
              "    }\n",
              "\n",
              "    .dataframe tbody tr th {\n",
              "        vertical-align: top;\n",
              "    }\n",
              "\n",
              "    .dataframe thead th {\n",
              "        text-align: right;\n",
              "    }\n",
              "</style>\n",
              "<table border=\"1\" class=\"dataframe\">\n",
              "  <thead>\n",
              "    <tr style=\"text-align: right;\">\n",
              "      <th></th>\n",
              "      <th>Symbol</th>\n",
              "      <th>Investopedia</th>\n",
              "      <th>Current</th>\n",
              "      <th>Profit %</th>\n",
              "      <th>Order</th>\n",
              "      <th>Amount</th>\n",
              "    </tr>\n",
              "  </thead>\n",
              "  <tbody>\n",
              "    <tr>\n",
              "      <th>12</th>\n",
              "      <td>DCP</td>\n",
              "      <td>3.7350</td>\n",
              "      <td>3.830</td>\n",
              "      <td>2.54</td>\n",
              "      <td>Buy</td>\n",
              "      <td>13054</td>\n",
              "    </tr>\n",
              "    <tr>\n",
              "      <th>15</th>\n",
              "      <td>GNW</td>\n",
              "      <td>3.5827</td>\n",
              "      <td>3.510</td>\n",
              "      <td>2.03</td>\n",
              "      <td>Sell Short</td>\n",
              "      <td>14245</td>\n",
              "    </tr>\n",
              "    <tr>\n",
              "      <th>2</th>\n",
              "      <td>AKRO</td>\n",
              "      <td>21.1300</td>\n",
              "      <td>20.850</td>\n",
              "      <td>1.33</td>\n",
              "      <td>Sell Short</td>\n",
              "      <td>2398</td>\n",
              "    </tr>\n",
              "    <tr>\n",
              "      <th>4</th>\n",
              "      <td>MX</td>\n",
              "      <td>11.4700</td>\n",
              "      <td>11.355</td>\n",
              "      <td>1.00</td>\n",
              "      <td>Sell Short</td>\n",
              "      <td>4403</td>\n",
              "    </tr>\n",
              "    <tr>\n",
              "      <th>8</th>\n",
              "      <td>PE</td>\n",
              "      <td>5.5050</td>\n",
              "      <td>5.560</td>\n",
              "      <td>1.00</td>\n",
              "      <td>Buy</td>\n",
              "      <td>8992</td>\n",
              "    </tr>\n",
              "    <tr>\n",
              "      <th>1</th>\n",
              "      <td>DLPH</td>\n",
              "      <td>8.0500</td>\n",
              "      <td>7.975</td>\n",
              "      <td>0.93</td>\n",
              "      <td>Sell Short</td>\n",
              "      <td>6269</td>\n",
              "    </tr>\n",
              "    <tr>\n",
              "      <th>5</th>\n",
              "      <td>GEL</td>\n",
              "      <td>3.5600</td>\n",
              "      <td>3.530</td>\n",
              "      <td>0.84</td>\n",
              "      <td>Sell Short</td>\n",
              "      <td>14164</td>\n",
              "    </tr>\n",
              "    <tr>\n",
              "      <th>11</th>\n",
              "      <td>AFIN</td>\n",
              "      <td>5.9200</td>\n",
              "      <td>5.870</td>\n",
              "      <td>0.84</td>\n",
              "      <td>Sell Short</td>\n",
              "      <td>8517</td>\n",
              "    </tr>\n",
              "    <tr>\n",
              "      <th>14</th>\n",
              "      <td>ETNB</td>\n",
              "      <td>25.0000</td>\n",
              "      <td>25.205</td>\n",
              "      <td>0.82</td>\n",
              "      <td>Buy</td>\n",
              "      <td>1983</td>\n",
              "    </tr>\n",
              "    <tr>\n",
              "      <th>6</th>\n",
              "      <td>CNQ</td>\n",
              "      <td>13.2400</td>\n",
              "      <td>13.135</td>\n",
              "      <td>0.79</td>\n",
              "      <td>Sell Short</td>\n",
              "      <td>3806</td>\n",
              "    </tr>\n",
              "    <tr>\n",
              "      <th>7</th>\n",
              "      <td>NEWT</td>\n",
              "      <td>13.4400</td>\n",
              "      <td>13.380</td>\n",
              "      <td>0.45</td>\n",
              "      <td>Sell Short</td>\n",
              "      <td>3736</td>\n",
              "    </tr>\n",
              "    <tr>\n",
              "      <th>10</th>\n",
              "      <td>NRZ</td>\n",
              "      <td>5.0850</td>\n",
              "      <td>5.070</td>\n",
              "      <td>0.29</td>\n",
              "      <td>Sell Short</td>\n",
              "      <td>9861</td>\n",
              "    </tr>\n",
              "    <tr>\n",
              "      <th>0</th>\n",
              "      <td>KNSA</td>\n",
              "      <td>15.6500</td>\n",
              "      <td>15.615</td>\n",
              "      <td>0.22</td>\n",
              "      <td>Sell Short</td>\n",
              "      <td>3202</td>\n",
              "    </tr>\n",
              "    <tr>\n",
              "      <th>9</th>\n",
              "      <td>SU</td>\n",
              "      <td>15.5350</td>\n",
              "      <td>15.540</td>\n",
              "      <td>0.03</td>\n",
              "      <td>Buy</td>\n",
              "      <td>3217</td>\n",
              "    </tr>\n",
              "    <tr>\n",
              "      <th>13</th>\n",
              "      <td>ERIE</td>\n",
              "      <td>152.0300</td>\n",
              "      <td>152.075</td>\n",
              "      <td>0.03</td>\n",
              "      <td>Buy</td>\n",
              "      <td>328</td>\n",
              "    </tr>\n",
              "    <tr>\n",
              "      <th>3</th>\n",
              "      <td>PRQR</td>\n",
              "      <td>5.3700</td>\n",
              "      <td>5.370</td>\n",
              "      <td>0.00</td>\n",
              "      <td>Even</td>\n",
              "      <td>9310</td>\n",
              "    </tr>\n",
              "  </tbody>\n",
              "</table>\n",
              "</div>"
            ]
          },
          "metadata": {
            "tags": []
          },
          "execution_count": 23
        }
      ]
    },
    {
      "cell_type": "code",
      "metadata": {
        "id": "68AECjsr9MLD",
        "colab_type": "code",
        "colab": {}
      },
      "source": [
        "trade_stock(\"DCP\", 13054, \"Buy\")"
      ],
      "execution_count": 0,
      "outputs": []
    },
    {
      "cell_type": "code",
      "metadata": {
        "id": "Q_Maai59QkXz",
        "colab_type": "code",
        "colab": {}
      },
      "source": [
        ""
      ],
      "execution_count": 0,
      "outputs": []
    }
  ]
}